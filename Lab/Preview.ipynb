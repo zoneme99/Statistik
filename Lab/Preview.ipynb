{
 "cells": [
  {
   "cell_type": "code",
   "execution_count": 1,
   "metadata": {},
   "outputs": [
    {
     "data": {
      "text/html": [
       "<div>\n",
       "<style scoped>\n",
       "    .dataframe tbody tr th:only-of-type {\n",
       "        vertical-align: middle;\n",
       "    }\n",
       "\n",
       "    .dataframe tbody tr th {\n",
       "        vertical-align: top;\n",
       "    }\n",
       "\n",
       "    .dataframe thead th {\n",
       "        text-align: right;\n",
       "    }\n",
       "</style>\n",
       "<table border=\"1\" class=\"dataframe\">\n",
       "  <thead>\n",
       "    <tr style=\"text-align: right;\">\n",
       "      <th></th>\n",
       "      <th>Flow</th>\n",
       "      <th>Kinematic</th>\n",
       "      <th>Geometric</th>\n",
       "      <th>Inertial</th>\n",
       "      <th>Observer</th>\n",
       "    </tr>\n",
       "  </thead>\n",
       "  <tbody>\n",
       "    <tr>\n",
       "      <th>0</th>\n",
       "      <td>-17.047687</td>\n",
       "      <td>-0.584344</td>\n",
       "      <td>-6.896327</td>\n",
       "      <td>-14.323560</td>\n",
       "      <td>0.0</td>\n",
       "    </tr>\n",
       "    <tr>\n",
       "      <th>1</th>\n",
       "      <td>-17.043179</td>\n",
       "      <td>-0.584344</td>\n",
       "      <td>-6.896327</td>\n",
       "      <td>-14.323560</td>\n",
       "      <td>0.0</td>\n",
       "    </tr>\n",
       "    <tr>\n",
       "      <th>2</th>\n",
       "      <td>-17.043179</td>\n",
       "      <td>-0.584344</td>\n",
       "      <td>-6.896327</td>\n",
       "      <td>-14.323560</td>\n",
       "      <td>0.0</td>\n",
       "    </tr>\n",
       "    <tr>\n",
       "      <th>3</th>\n",
       "      <td>-11.182193</td>\n",
       "      <td>1.242506</td>\n",
       "      <td>-5.069476</td>\n",
       "      <td>-11.583284</td>\n",
       "      <td>0.0</td>\n",
       "    </tr>\n",
       "    <tr>\n",
       "      <th>4</th>\n",
       "      <td>-11.184430</td>\n",
       "      <td>1.242506</td>\n",
       "      <td>-5.069476</td>\n",
       "      <td>-11.583284</td>\n",
       "      <td>0.0</td>\n",
       "    </tr>\n",
       "    <tr>\n",
       "      <th>...</th>\n",
       "      <td>...</td>\n",
       "      <td>...</td>\n",
       "      <td>...</td>\n",
       "      <td>...</td>\n",
       "      <td>...</td>\n",
       "    </tr>\n",
       "    <tr>\n",
       "      <th>193</th>\n",
       "      <td>-11.549945</td>\n",
       "      <td>0.676618</td>\n",
       "      <td>-5.141828</td>\n",
       "      <td>-11.985050</td>\n",
       "      <td>1.0</td>\n",
       "    </tr>\n",
       "    <tr>\n",
       "      <th>194</th>\n",
       "      <td>-11.588558</td>\n",
       "      <td>0.676618</td>\n",
       "      <td>-5.141828</td>\n",
       "      <td>-11.985050</td>\n",
       "      <td>1.0</td>\n",
       "    </tr>\n",
       "    <tr>\n",
       "      <th>195</th>\n",
       "      <td>-11.575993</td>\n",
       "      <td>0.604644</td>\n",
       "      <td>-5.141828</td>\n",
       "      <td>-11.985050</td>\n",
       "      <td>1.0</td>\n",
       "    </tr>\n",
       "    <tr>\n",
       "      <th>196</th>\n",
       "      <td>-11.548646</td>\n",
       "      <td>0.604644</td>\n",
       "      <td>-5.141828</td>\n",
       "      <td>-11.985050</td>\n",
       "      <td>1.0</td>\n",
       "    </tr>\n",
       "    <tr>\n",
       "      <th>197</th>\n",
       "      <td>-11.595403</td>\n",
       "      <td>0.604644</td>\n",
       "      <td>-5.141828</td>\n",
       "      <td>-11.985050</td>\n",
       "      <td>1.0</td>\n",
       "    </tr>\n",
       "  </tbody>\n",
       "</table>\n",
       "<p>198 rows × 5 columns</p>\n",
       "</div>"
      ],
      "text/plain": [
       "          Flow  Kinematic  Geometric   Inertial  Observer\n",
       "0   -17.047687  -0.584344  -6.896327 -14.323560       0.0\n",
       "1   -17.043179  -0.584344  -6.896327 -14.323560       0.0\n",
       "2   -17.043179  -0.584344  -6.896327 -14.323560       0.0\n",
       "3   -11.182193   1.242506  -5.069476 -11.583284       0.0\n",
       "4   -11.184430   1.242506  -5.069476 -11.583284       0.0\n",
       "..         ...        ...        ...        ...       ...\n",
       "193 -11.549945   0.676618  -5.141828 -11.985050       1.0\n",
       "194 -11.588558   0.676618  -5.141828 -11.985050       1.0\n",
       "195 -11.575993   0.604644  -5.141828 -11.985050       1.0\n",
       "196 -11.548646   0.604644  -5.141828 -11.985050       1.0\n",
       "197 -11.595403   0.604644  -5.141828 -11.985050       1.0\n",
       "\n",
       "[198 rows x 5 columns]"
      ]
     },
     "execution_count": 1,
     "metadata": {},
     "output_type": "execute_result"
    }
   ],
   "source": [
    "import regressionclass as r\n",
    "import pandas as pd\n",
    "#Creating class object from regressionclass.py and import data from Small-diameter-flow.csv\n",
    "df = pd.read_csv(\"Small-diameter-flow.csv\", index_col=0)\n",
    "regression_stat = r.LinearRegression(df, \"Flow\", 0.95)\n",
    "#df is our matrix and \"Flow\" is the label of our Y variable and 0.95 is your confedence level\n",
    "regression_stat.matrix"
   ]
  },
  {
   "cell_type": "code",
   "execution_count": 2,
   "metadata": {},
   "outputs": [
    {
     "data": {
      "text/plain": [
       "(     bias  Kinematic  Geometric   Inertial  Observer\n",
       " 0     1.0  -0.584344  -6.896327 -14.323560       0.0\n",
       " 1     1.0  -0.584344  -6.896327 -14.323560       0.0\n",
       " 2     1.0  -0.584344  -6.896327 -14.323560       0.0\n",
       " 3     1.0   1.242506  -5.069476 -11.583284       0.0\n",
       " 4     1.0   1.242506  -5.069476 -11.583284       0.0\n",
       " ..    ...        ...        ...        ...       ...\n",
       " 193   1.0   0.676618  -5.141828 -11.985050       1.0\n",
       " 194   1.0   0.676618  -5.141828 -11.985050       1.0\n",
       " 195   1.0   0.604644  -5.141828 -11.985050       1.0\n",
       " 196   1.0   0.604644  -5.141828 -11.985050       1.0\n",
       " 197   1.0   0.604644  -5.141828 -11.985050       1.0\n",
       " \n",
       " [198 rows x 5 columns],\n",
       " 0     -17.047687\n",
       " 1     -17.043179\n",
       " 2     -17.043179\n",
       " 3     -11.182193\n",
       " 4     -11.184430\n",
       "          ...    \n",
       " 193   -11.549945\n",
       " 194   -11.588558\n",
       " 195   -11.575993\n",
       " 196   -11.548646\n",
       " 197   -11.595403\n",
       " Name: Flow, Length: 198, dtype: float64)"
      ]
     },
     "execution_count": 2,
     "metadata": {},
     "output_type": "execute_result"
    }
   ],
   "source": [
    "#Our new X and Y value\n",
    "regression_stat.X, regression_stat.Y"
   ]
  },
  {
   "cell_type": "code",
   "execution_count": 3,
   "metadata": {},
   "outputs": [
    {
     "data": {
      "text/plain": [
       "(198, 5)"
      ]
     },
     "execution_count": 3,
     "metadata": {},
     "output_type": "execute_result"
    }
   ],
   "source": [
    "#n sample and d feature properties\n",
    "regression_stat.n, regression_stat.d"
   ]
  },
  {
   "cell_type": "code",
   "execution_count": 4,
   "metadata": {},
   "outputs": [
    {
     "data": {
      "text/plain": [
       "np.float64(0.0063049607286606016)"
      ]
     },
     "execution_count": 4,
     "metadata": {},
     "output_type": "execute_result"
    }
   ],
   "source": [
    "#All functions that doesnt require input are made properties\n",
    "#Variance\n",
    "regression_stat.var"
   ]
  },
  {
   "cell_type": "code",
   "execution_count": 5,
   "metadata": {},
   "outputs": [
    {
     "data": {
      "text/plain": [
       "np.float64(0.07940378283596193)"
      ]
     },
     "execution_count": 5,
     "metadata": {},
     "output_type": "execute_result"
    }
   ],
   "source": [
    "#Standard deviation\n",
    "regression_stat.std"
   ]
  },
  {
   "cell_type": "code",
   "execution_count": 6,
   "metadata": {},
   "outputs": [
    {
     "data": {
      "text/plain": [
       "np.float64(3.0430080579377486e-242)"
      ]
     },
     "execution_count": 6,
     "metadata": {},
     "output_type": "execute_result"
    }
   ],
   "source": [
    "#test signifiance with a F-test on all features, output P-value\n",
    "regression_stat.F_test"
   ]
  },
  {
   "cell_type": "code",
   "execution_count": 7,
   "metadata": {},
   "outputs": [
    {
     "data": {
      "text/plain": [
       "np.float64(0.9971526073387936)"
      ]
     },
     "execution_count": 7,
     "metadata": {},
     "output_type": "execute_result"
    }
   ],
   "source": [
    "#R squared variable to determine relevance of the model\n",
    "regression_stat.R2"
   ]
  },
  {
   "cell_type": "code",
   "execution_count": 8,
   "metadata": {},
   "outputs": [
    {
     "data": {
      "text/plain": [
       "np.float64(4.882865631843518e-44)"
      ]
     },
     "execution_count": 8,
     "metadata": {},
     "output_type": "execute_result"
    }
   ],
   "source": [
    "#T-test for a individual feature, require label for chosen feature\n",
    "regression_stat.T_test(\"Observer\")"
   ]
  }
 ],
 "metadata": {
  "kernelspec": {
   "display_name": "venv",
   "language": "python",
   "name": "python3"
  },
  "language_info": {
   "codemirror_mode": {
    "name": "ipython",
    "version": 3
   },
   "file_extension": ".py",
   "mimetype": "text/x-python",
   "name": "python",
   "nbconvert_exporter": "python",
   "pygments_lexer": "ipython3",
   "version": "3.12.3"
  }
 },
 "nbformat": 4,
 "nbformat_minor": 2
}
