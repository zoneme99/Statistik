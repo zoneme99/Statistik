{
 "cells": [
  {
   "cell_type": "code",
   "execution_count": 1,
   "metadata": {},
   "outputs": [
    {
     "data": {
      "text/html": [
       "<div>\n",
       "<style scoped>\n",
       "    .dataframe tbody tr th:only-of-type {\n",
       "        vertical-align: middle;\n",
       "    }\n",
       "\n",
       "    .dataframe tbody tr th {\n",
       "        vertical-align: top;\n",
       "    }\n",
       "\n",
       "    .dataframe thead th {\n",
       "        text-align: right;\n",
       "    }\n",
       "</style>\n",
       "<table border=\"1\" class=\"dataframe\">\n",
       "  <thead>\n",
       "    <tr style=\"text-align: right;\">\n",
       "      <th></th>\n",
       "      <th>Flow</th>\n",
       "      <th>Kinematic</th>\n",
       "      <th>Geometric</th>\n",
       "      <th>Inertial</th>\n",
       "      <th>Observer</th>\n",
       "    </tr>\n",
       "  </thead>\n",
       "  <tbody>\n",
       "    <tr>\n",
       "      <th>0</th>\n",
       "      <td>-17.047687</td>\n",
       "      <td>-0.584344</td>\n",
       "      <td>-6.896327</td>\n",
       "      <td>-14.323560</td>\n",
       "      <td>0.0</td>\n",
       "    </tr>\n",
       "    <tr>\n",
       "      <th>1</th>\n",
       "      <td>-17.043179</td>\n",
       "      <td>-0.584344</td>\n",
       "      <td>-6.896327</td>\n",
       "      <td>-14.323560</td>\n",
       "      <td>0.0</td>\n",
       "    </tr>\n",
       "    <tr>\n",
       "      <th>2</th>\n",
       "      <td>-17.043179</td>\n",
       "      <td>-0.584344</td>\n",
       "      <td>-6.896327</td>\n",
       "      <td>-14.323560</td>\n",
       "      <td>0.0</td>\n",
       "    </tr>\n",
       "    <tr>\n",
       "      <th>3</th>\n",
       "      <td>-11.182193</td>\n",
       "      <td>1.242506</td>\n",
       "      <td>-5.069476</td>\n",
       "      <td>-11.583284</td>\n",
       "      <td>0.0</td>\n",
       "    </tr>\n",
       "    <tr>\n",
       "      <th>4</th>\n",
       "      <td>-11.184430</td>\n",
       "      <td>1.242506</td>\n",
       "      <td>-5.069476</td>\n",
       "      <td>-11.583284</td>\n",
       "      <td>0.0</td>\n",
       "    </tr>\n",
       "    <tr>\n",
       "      <th>...</th>\n",
       "      <td>...</td>\n",
       "      <td>...</td>\n",
       "      <td>...</td>\n",
       "      <td>...</td>\n",
       "      <td>...</td>\n",
       "    </tr>\n",
       "    <tr>\n",
       "      <th>193</th>\n",
       "      <td>-11.549945</td>\n",
       "      <td>0.676618</td>\n",
       "      <td>-5.141828</td>\n",
       "      <td>-11.985050</td>\n",
       "      <td>1.0</td>\n",
       "    </tr>\n",
       "    <tr>\n",
       "      <th>194</th>\n",
       "      <td>-11.588558</td>\n",
       "      <td>0.676618</td>\n",
       "      <td>-5.141828</td>\n",
       "      <td>-11.985050</td>\n",
       "      <td>1.0</td>\n",
       "    </tr>\n",
       "    <tr>\n",
       "      <th>195</th>\n",
       "      <td>-11.575993</td>\n",
       "      <td>0.604644</td>\n",
       "      <td>-5.141828</td>\n",
       "      <td>-11.985050</td>\n",
       "      <td>1.0</td>\n",
       "    </tr>\n",
       "    <tr>\n",
       "      <th>196</th>\n",
       "      <td>-11.548646</td>\n",
       "      <td>0.604644</td>\n",
       "      <td>-5.141828</td>\n",
       "      <td>-11.985050</td>\n",
       "      <td>1.0</td>\n",
       "    </tr>\n",
       "    <tr>\n",
       "      <th>197</th>\n",
       "      <td>-11.595403</td>\n",
       "      <td>0.604644</td>\n",
       "      <td>-5.141828</td>\n",
       "      <td>-11.985050</td>\n",
       "      <td>1.0</td>\n",
       "    </tr>\n",
       "  </tbody>\n",
       "</table>\n",
       "<p>198 rows × 5 columns</p>\n",
       "</div>"
      ],
      "text/plain": [
       "          Flow  Kinematic  Geometric   Inertial  Observer\n",
       "0   -17.047687  -0.584344  -6.896327 -14.323560       0.0\n",
       "1   -17.043179  -0.584344  -6.896327 -14.323560       0.0\n",
       "2   -17.043179  -0.584344  -6.896327 -14.323560       0.0\n",
       "3   -11.182193   1.242506  -5.069476 -11.583284       0.0\n",
       "4   -11.184430   1.242506  -5.069476 -11.583284       0.0\n",
       "..         ...        ...        ...        ...       ...\n",
       "193 -11.549945   0.676618  -5.141828 -11.985050       1.0\n",
       "194 -11.588558   0.676618  -5.141828 -11.985050       1.0\n",
       "195 -11.575993   0.604644  -5.141828 -11.985050       1.0\n",
       "196 -11.548646   0.604644  -5.141828 -11.985050       1.0\n",
       "197 -11.595403   0.604644  -5.141828 -11.985050       1.0\n",
       "\n",
       "[198 rows x 5 columns]"
      ]
     },
     "execution_count": 1,
     "metadata": {},
     "output_type": "execute_result"
    }
   ],
   "source": [
    "import regressionclass as r\n",
    "import pandas as pd\n",
    "#Creating class object from regressionclass.py and import data from Small-diameter-flow.csv\n",
    "df = pd.read_csv(\"Small-diameter-flow.csv\", index_col=0)\n",
    "regression_stat = r.LinearRegression(df, \"Flow\", 0.05)\n",
    "#df is our matrix and \"Flow\" is the label of our Y variable and alpha = 0.05 is your confedence level\n",
    "regression_stat.matrix"
   ]
  },
  {
   "cell_type": "code",
   "execution_count": 2,
   "metadata": {},
   "outputs": [
    {
     "data": {
      "text/plain": [
       "(     bias  Kinematic  Geometric   Inertial  Observer\n",
       " 0     1.0  -0.584344  -6.896327 -14.323560       0.0\n",
       " 1     1.0  -0.584344  -6.896327 -14.323560       0.0\n",
       " 2     1.0  -0.584344  -6.896327 -14.323560       0.0\n",
       " 3     1.0   1.242506  -5.069476 -11.583284       0.0\n",
       " 4     1.0   1.242506  -5.069476 -11.583284       0.0\n",
       " ..    ...        ...        ...        ...       ...\n",
       " 193   1.0   0.676618  -5.141828 -11.985050       1.0\n",
       " 194   1.0   0.676618  -5.141828 -11.985050       1.0\n",
       " 195   1.0   0.604644  -5.141828 -11.985050       1.0\n",
       " 196   1.0   0.604644  -5.141828 -11.985050       1.0\n",
       " 197   1.0   0.604644  -5.141828 -11.985050       1.0\n",
       " \n",
       " [198 rows x 5 columns],\n",
       " 0     -17.047687\n",
       " 1     -17.043179\n",
       " 2     -17.043179\n",
       " 3     -11.182193\n",
       " 4     -11.184430\n",
       "          ...    \n",
       " 193   -11.549945\n",
       " 194   -11.588558\n",
       " 195   -11.575993\n",
       " 196   -11.548646\n",
       " 197   -11.595403\n",
       " Name: Flow, Length: 198, dtype: float64)"
      ]
     },
     "execution_count": 2,
     "metadata": {},
     "output_type": "execute_result"
    }
   ],
   "source": [
    "#Our new X and Y value\n",
    "regression_stat.X, regression_stat.Y"
   ]
  },
  {
   "cell_type": "code",
   "execution_count": 3,
   "metadata": {},
   "outputs": [
    {
     "data": {
      "text/plain": [
       "(198, 5)"
      ]
     },
     "execution_count": 3,
     "metadata": {},
     "output_type": "execute_result"
    }
   ],
   "source": [
    "#n sample and d feature properties\n",
    "regression_stat.n, regression_stat.d"
   ]
  },
  {
   "cell_type": "code",
   "execution_count": 4,
   "metadata": {},
   "outputs": [
    {
     "data": {
      "text/plain": [
       "np.float64(0.006304960728660599)"
      ]
     },
     "execution_count": 4,
     "metadata": {},
     "output_type": "execute_result"
    }
   ],
   "source": [
    "#All functions that doesnt require input are made properties\n",
    "#Variance\n",
    "regression_stat.var"
   ]
  },
  {
   "cell_type": "code",
   "execution_count": 5,
   "metadata": {},
   "outputs": [
    {
     "data": {
      "text/plain": [
       "np.float64(0.0794037828359619)"
      ]
     },
     "execution_count": 5,
     "metadata": {},
     "output_type": "execute_result"
    }
   ],
   "source": [
    "#Standard deviation\n",
    "regression_stat.std"
   ]
  },
  {
   "cell_type": "code",
   "execution_count": 6,
   "metadata": {},
   "outputs": [
    {
     "data": {
      "text/plain": [
       "np.float64(3.043008061192362e-242)"
      ]
     },
     "execution_count": 6,
     "metadata": {},
     "output_type": "execute_result"
    }
   ],
   "source": [
    "#test signifiance with a F-test on all features, output P-value\n",
    "regression_stat.F_test"
   ]
  },
  {
   "cell_type": "code",
   "execution_count": 7,
   "metadata": {},
   "outputs": [
    {
     "data": {
      "text/plain": [
       "np.float64(0.9971526073276518)"
      ]
     },
     "execution_count": 7,
     "metadata": {},
     "output_type": "execute_result"
    }
   ],
   "source": [
    "#R squared variable to determine relevance of the model\n",
    "regression_stat.R2"
   ]
  },
  {
   "cell_type": "code",
   "execution_count": 8,
   "metadata": {},
   "outputs": [
    {
     "data": {
      "text/plain": [
       "np.float64(4.882865602827912e-44)"
      ]
     },
     "execution_count": 8,
     "metadata": {},
     "output_type": "execute_result"
    }
   ],
   "source": [
    "#T-test for a individual feature, require label for chosen feature\n",
    "regression_stat.T_test(\"Observer\")"
   ]
  },
  {
   "cell_type": "markdown",
   "metadata": {},
   "source": [
    "### Observer variable is significant. We can interpret this variable to have low bias"
   ]
  },
  {
   "cell_type": "code",
   "execution_count": 9,
   "metadata": {},
   "outputs": [
    {
     "name": "stdout",
     "output_type": "stream",
     "text": [
      "Kinematic/Geometric : PearsonRResult(statistic=np.float64(0.8631350761065917), pvalue=np.float64(4.560463362440549e-60))\n",
      "Kinematic/Inertial : PearsonRResult(statistic=np.float64(0.9686707504997814), pvalue=np.float64(1.588545639896555e-120))\n",
      "Kinematic/Observer : PearsonRResult(statistic=np.float64(0.10322658943843979), pvalue=np.float64(0.14784118487116138))\n",
      "Geometric/Inertial : PearsonRResult(statistic=np.float64(0.9183300308546999), pvalue=np.float64(7.951572627162236e-81))\n",
      "Geometric/Observer : PearsonRResult(statistic=np.float64(0.17519913369993173), pvalue=np.float64(0.013557203955629534))\n",
      "Inertial/Observer : PearsonRResult(statistic=np.float64(0.12198107336291038), pvalue=np.float64(0.08690459468332262))\n",
      "\n"
     ]
    }
   ],
   "source": [
    "#Correlation between all independent variables/features\n",
    "print(regression_stat.Pearson_pairs)\n",
    "#There is an obvious deviation in the variable observer with highest P-value of all of it's pairs"
   ]
  },
  {
   "cell_type": "code",
   "execution_count": 10,
   "metadata": {},
   "outputs": [
    {
     "name": "stdout",
     "output_type": "stream",
     "text": [
      "Kinematic : 0.8700077098670551 +/- -0.00015189330120370868\n",
      "Geometric : 3.603150685645609 +/- -0.00038586137588057405\n",
      "Inertial : -0.7518895819888065 +/- -0.00016509673345522935\n",
      "Observer : 0.01688050411682962 +/- -0.00014425025026556054\n",
      "\n"
     ]
    }
   ],
   "source": [
    "\n",
    "#Confedence interval on every feature in dataset\n",
    "print(regression_stat.conf_interval_features)"
   ]
  }
 ],
 "metadata": {
  "kernelspec": {
   "display_name": ".venv",
   "language": "python",
   "name": "python3"
  },
  "language_info": {
   "codemirror_mode": {
    "name": "ipython",
    "version": 3
   },
   "file_extension": ".py",
   "mimetype": "text/x-python",
   "name": "python",
   "nbconvert_exporter": "python",
   "pygments_lexer": "ipython3",
   "version": "3.11.1"
  }
 },
 "nbformat": 4,
 "nbformat_minor": 2
}
